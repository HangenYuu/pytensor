{
 "cells": [
  {
   "cell_type": "code",
   "execution_count": 1,
   "metadata": {},
   "outputs": [
    {
     "name": "stderr",
     "output_type": "stream",
     "text": [
      "An NVIDIA GPU may be present on this machine, but a CUDA-enabled jaxlib is not installed. Falling back to cpu.\n"
     ]
    }
   ],
   "source": [
    "# General import\n",
    "import jax.numpy as jnp\n",
    "import numpy as np\n",
    "import pytensor.tensor as pt\n",
    "from pytensor.link.jax.dispatch import jax_funcify\n",
    "\n",
    "# Import for testing\n",
    "import pytest\n",
    "from pytensor.configdefaults import config\n",
    "from tests.link.jax.test_basic import compare_jax_and_py\n",
    "from pytensor.graph import FunctionGraph\n",
    "from pytensor.graph.op import get_test_value\n",
    "\n",
    "# Import for the op to extend to JAX\n",
    "from pytensor.tensor.extra_ops import CumOp\n",
    "\n",
    "@jax_funcify.register(CumOp)\n",
    "def jax_funcify_CumOp(op, **kwargs):\n",
    "    axis = op.axis\n",
    "    mode = op.mode\n",
    "\n",
    "    def cumop(x, axis=axis, mode=mode):\n",
    "        if mode == \"add\":\n",
    "            return jnp.cumsum(x, axis=axis)\n",
    "        else:\n",
    "            raise NotImplementedError(\"JAX does not support cumprod function at the moment.\")\n",
    "\n",
    "    return cumop\n",
    "\n",
    "\n",
    "def test_jax_CumOp():\n",
    "    \"\"\"Test JAX conversion of the `CumOp` `Op`.\"\"\"\n",
    "    a = pt.matrix(\"a\")\n",
    "    a.tag.test_value = np.arange(9, dtype=config.floatX).reshape((3, 3))\n",
    "    \n",
    "    out = pt.cumsum(a, axis=0)\n",
    "    fgraph = FunctionGraph([a], [out])\n",
    "    compare_jax_and_py(fgraph, [get_test_value(i) for i in fgraph.inputs])\n",
    "    \n",
    "    with pytest.raises(NotImplementedError):\n",
    "        out = pt.cumprod(a, axis=1)\n",
    "        fgraph = FunctionGraph([a], [out])\n",
    "        compare_jax_and_py(fgraph, [get_test_value(i) for i in fgraph.inputs])\n",
    "\n",
    "test_jax_CumOp()"
   ]
  }
 ],
 "metadata": {
  "kernelspec": {
   "display_name": "pytensor-dev",
   "language": "python",
   "name": "python3"
  },
  "language_info": {
   "codemirror_mode": {
    "name": "ipython",
    "version": 3
   },
   "file_extension": ".py",
   "mimetype": "text/x-python",
   "name": "python",
   "nbconvert_exporter": "python",
   "pygments_lexer": "ipython3",
   "version": "3.11.8"
  }
 },
 "nbformat": 4,
 "nbformat_minor": 2
}
